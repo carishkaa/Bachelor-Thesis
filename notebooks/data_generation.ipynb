{
 "cells": [
  {
   "cell_type": "markdown",
   "source": [
    "# RNASeq Generator"
   ],
   "metadata": {
    "collapsed": false
   }
  },
  {
   "cell_type": "code",
   "execution_count": 4,
   "metadata": {
    "collapsed": true
   },
   "outputs": [
    {
     "name": "stdout",
     "output_type": "stream",
     "text": [
      "The autoreload extension is already loaded. To reload it, use:\n",
      "  %reload_ext autoreload\n"
     ]
    }
   ],
   "source": [
    "%load_ext autoreload\n",
    "%autoreload 2\n",
    "from functions.rnaseq_data_generator import rna_seq_generator\n",
    "import numpy as np\n",
    "import pandas as pd\n"
   ]
  },
  {
   "cell_type": "code",
   "execution_count": 20,
   "outputs": [],
   "source": [
    "t = 2\n",
    "example = np.array([\n",
    "    [0, 0, 0, 0, 0, 0, 0],\n",
    "    [0, 0, 0, 0, 0, 0, 0],\n",
    "])\n",
    "\n",
    "beta0 = 2\n",
    "beta1 = 0.5\n",
    "beta2 = 0.9\n",
    "beta3 = 0.7\n",
    "IS1 = [1, 1, 0, 1, 1, 0, 1]\n",
    "IS2 = [1, 1, 1, 0, 1, 0, 0]\n",
    "IS3 = [0, 1, 0, 1, 1, 0, 1]\n",
    "for i in range(2):\n",
    "    mu = beta0 + beta1 * IS1[i] + beta2 * IS2[i] + beta3 * IS3[i]\n",
    "    example[i, :] = np.random.poisson(lam=mu, size=7)"
   ],
   "metadata": {
    "collapsed": false,
    "pycharm": {
     "name": "#%%\n"
    }
   }
  },
  {
   "cell_type": "code",
   "execution_count": 24,
   "outputs": [],
   "source": [
    "c = 7"
   ],
   "metadata": {
    "collapsed": false,
    "pycharm": {
     "name": "#%%\n"
    }
   }
  },
  {
   "cell_type": "code",
   "execution_count": 25,
   "outputs": [],
   "source": [
    "import statsmodels.api as sm\n",
    "\n",
    "learned_beta = np.zeros((3, t))\n",
    "for ind in range(t):\n",
    "    df = pd.DataFrame({\"x1\": IS1[:c],\n",
    "                       \"x2\": IS2[:c],\n",
    "                       \"x3\": IS3[:c],\n",
    "                       \"y\": example[:, :c][ind]})\n",
    "    mp = sm.formula.glm(\"y ~ x1 + x2 + x3\", family=sm.families.Poisson(), data=df).fit()\n",
    "    learned_beta[:, ind] = np.array([mp.params.x1, mp.params.x2, mp.params.x3])"
   ],
   "metadata": {
    "collapsed": false,
    "pycharm": {
     "name": "#%%\n"
    }
   }
  },
  {
   "cell_type": "code",
   "execution_count": 23,
   "outputs": [
    {
     "name": "stdout",
     "output_type": "stream",
     "text": [
      "[[-5.10825624e-01  1.92632068e+00]\n",
      " [-1.23234756e-14 -5.57146015e-01]\n",
      " [ 8.88178420e-16 -8.50600409e-01]]\n"
     ]
    }
   ],
   "source": [
    "print(learned_beta)"
   ],
   "metadata": {
    "collapsed": false,
    "pycharm": {
     "name": "#%%\n"
    }
   }
  },
  {
   "cell_type": "code",
   "execution_count": 26,
   "outputs": [
    {
     "name": "stdout",
     "output_type": "stream",
     "text": [
      "[[-0.46637386  2.01490302]\n",
      " [-0.08701138 -0.69314718]\n",
      " [ 0.03559095 -0.83624802]]\n"
     ]
    }
   ],
   "source": [
    "print(learned_beta)"
   ],
   "metadata": {
    "collapsed": false,
    "pycharm": {
     "name": "#%%\n"
    }
   }
  },
  {
   "cell_type": "markdown",
   "source": [
    "### 1. With no class effect and weak IS effect"
   ],
   "metadata": {
    "collapsed": false
   }
  },
  {
   "cell_type": "markdown",
   "source": [
    "##### - DEFINE PARAMETERS"
   ],
   "metadata": {
    "collapsed": false,
    "pycharm": {
     "name": "#%% md\n"
    }
   }
  },
  {
   "cell_type": "code",
   "execution_count": null,
   "outputs": [],
   "source": [
    "n_STA = 3000\n",
    "n_transcripts = 100000\n",
    "n_STA =\n",
    "n_CR =\n",
    "n_OT =\n",
    "n_IS_effect = 5\n",
    "IS_effect =\n",
    "is_class_effect =\n",
    "n_class_effect =\n",
    "class_effect =\n",
    "result_file_name = 'class_no_IS_weak'"
   ],
   "metadata": {
    "collapsed": false,
    "pycharm": {
     "name": "#%%\n"
    }
   }
  },
  {
   "cell_type": "markdown",
   "source": [
    "##### - GENERATE DATA"
   ],
   "metadata": {
    "collapsed": false
   }
  },
  {
   "cell_type": "code",
   "execution_count": null,
   "outputs": [],
   "source": [
    "origin, expected, IS = rna_seq_generator(\n",
    "\n",
    ")"
   ],
   "metadata": {
    "collapsed": false,
    "pycharm": {
     "name": "#%%\n"
    }
   }
  },
  {
   "cell_type": "markdown",
   "source": [
    "### 2. With no class effect and strong IS effect"
   ],
   "metadata": {
    "collapsed": false
   }
  },
  {
   "cell_type": "markdown",
   "source": [
    "##### - DEFINE PARAMETERS"
   ],
   "metadata": {
    "collapsed": false
   }
  },
  {
   "cell_type": "code",
   "execution_count": null,
   "outputs": [],
   "source": [
    "n_STA = 3000\n",
    "n_transcripts = 100000\n",
    "n_STA =\n",
    "n_CR =\n",
    "n_OT =\n",
    "n_IS_effect = 5\n",
    "IS_effect =\n",
    "is_class_effect =\n",
    "n_class_effect =\n",
    "class_effect =\n",
    "result_file_name = 'class_no_IS_strong'\n"
   ],
   "metadata": {
    "collapsed": false,
    "pycharm": {
     "name": "#%%\n"
    }
   }
  },
  {
   "cell_type": "markdown",
   "source": [
    "##### - GENERATE DATA"
   ],
   "metadata": {
    "collapsed": false
   }
  },
  {
   "cell_type": "code",
   "execution_count": null,
   "outputs": [],
   "source": [
    "origin, expected, IS = rna_seq_generator(\n",
    "\n",
    ")"
   ],
   "metadata": {
    "collapsed": false,
    "pycharm": {
     "name": "#%%\n"
    }
   }
  },
  {
   "cell_type": "markdown",
   "source": [
    "### 3. With class effect and weak IS effect"
   ],
   "metadata": {
    "collapsed": false
   }
  },
  {
   "cell_type": "markdown",
   "source": [
    "##### - DEFINE PARAMETERS"
   ],
   "metadata": {
    "collapsed": false
   }
  },
  {
   "cell_type": "code",
   "execution_count": null,
   "outputs": [],
   "source": [
    "n_STA = 3000\n",
    "n_transcripts = 100000\n",
    "n_STA =\n",
    "n_CR =\n",
    "n_OT =\n",
    "n_IS_effect = 5\n",
    "IS_effect =\n",
    "is_class_effect =\n",
    "n_class_effect =\n",
    "class_effect =\n",
    "result_file_name = 'class_yes_IS_weak'\n"
   ],
   "metadata": {
    "collapsed": false,
    "pycharm": {
     "name": "#%%\n"
    }
   }
  },
  {
   "cell_type": "markdown",
   "source": [
    "##### - GENERATE DATA"
   ],
   "metadata": {
    "collapsed": false
   }
  },
  {
   "cell_type": "code",
   "execution_count": null,
   "outputs": [],
   "source": [
    "origin, expected, IS = rna_seq_generator(\n",
    "\n",
    ")\n"
   ],
   "metadata": {
    "collapsed": false,
    "pycharm": {
     "name": "#%%\n"
    }
   }
  },
  {
   "cell_type": "markdown",
   "source": [
    "### 4. With class effect and strong IS effect"
   ],
   "metadata": {
    "collapsed": false,
    "pycharm": {
     "name": "#%% md\n"
    }
   }
  },
  {
   "cell_type": "markdown",
   "source": [
    "##### - DEFINE PARAMETERS"
   ],
   "metadata": {
    "collapsed": false
   }
  },
  {
   "cell_type": "code",
   "execution_count": null,
   "outputs": [],
   "source": [
    "n_STA = 3000\n",
    "n_transcripts = 100000\n",
    "n_STA =\n",
    "n_CR =\n",
    "n_OT =\n",
    "n_IS_effect = 5\n",
    "IS_effect =\n",
    "is_class_effect =\n",
    "n_class_effect =\n",
    "class_effect =\n",
    "result_file_name = 'class_yes_IS_strong'\n"
   ],
   "metadata": {
    "collapsed": false,
    "pycharm": {
     "name": "#%%\n"
    }
   }
  },
  {
   "cell_type": "markdown",
   "source": [
    "##### - GENERATE DATA"
   ],
   "metadata": {
    "collapsed": false
   }
  },
  {
   "cell_type": "code",
   "execution_count": null,
   "outputs": [],
   "source": [
    "origin, expected, IS = rna_seq_generator(\n",
    "\n",
    ")\n",
    "\n"
   ],
   "metadata": {
    "collapsed": false,
    "pycharm": {
     "name": "#%%\n"
    }
   }
  },
  {
   "cell_type": "code",
   "execution_count": null,
   "outputs": [],
   "source": [
    "\n",
    "\n"
   ],
   "metadata": {
    "collapsed": false,
    "pycharm": {
     "name": "#%%\n"
    }
   }
  }
 ],
 "metadata": {
  "kernelspec": {
   "display_name": "Python 3",
   "language": "python",
   "name": "python3"
  },
  "language_info": {
   "codemirror_mode": {
    "name": "ipython",
    "version": 2
   },
   "file_extension": ".py",
   "mimetype": "text/x-python",
   "name": "python",
   "nbconvert_exporter": "python",
   "pygments_lexer": "ipython2",
   "version": "2.7.6"
  }
 },
 "nbformat": 4,
 "nbformat_minor": 0
}