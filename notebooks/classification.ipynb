{
 "cells": [
  {
   "cell_type": "code",
   "execution_count": 1,
   "metadata": {
    "collapsed": true
   },
   "outputs": [],
   "source": [
    "import json\n",
    "from functions.experiment import experiment_iteration\n",
    "from functions.rnaseq_data_generator import rna_seq_generator\n",
    "%load_ext autoreload\n",
    "%autoreload 2\n",
    "import numpy as np\n",
    "from functions.saving_data import get_empty_auc_dataset"
   ]
  },
  {
   "cell_type": "code",
   "execution_count": 9,
   "outputs": [],
   "source": [
    "# Prepare to store data into array\n",
    "STA_range = [10, 20, 50, 100, 200, 500, 1000, 2000, 5000]\n",
    "data = get_empty_auc_dataset(STA_range, 2)"
   ],
   "metadata": {
    "collapsed": false,
    "pycharm": {
     "name": "#%%\n"
    }
   }
  },
  {
   "cell_type": "code",
   "execution_count": 10,
   "outputs": [],
   "source": [
    "# Save data\n",
    "np.savez('auc_results_origin.npz', auc_data=data)\n",
    "saved_origin = np.load('auc_results_origin.npz', allow_pickle=True)\n",
    "saved_origin = saved_origin['auc_data'].item()\n",
    "\n",
    "np.savez('auc_results_expected.npz', auc_data=data)\n",
    "saved_expected = np.load('auc_results_expected.npz', allow_pickle=True)\n",
    "saved_expected = saved_expected['auc_data'].item()\n",
    "\n",
    "np.savez('auc_results_filtered.npz', auc_data=data)\n",
    "saved_filtered = np.load('auc_results_filtered.npz', allow_pickle=True)\n",
    "saved_filtered = saved_filtered['auc_data'].item()"
   ],
   "metadata": {
    "collapsed": false,
    "pycharm": {
     "name": "#%%\n"
    }
   }
  },
  {
   "cell_type": "code",
   "execution_count": 11,
   "outputs": [],
   "source": [
    "def experiment_classification(n_transcripts, n_IS_effect, IS_effect, n_class_effect, class_effect_mean, STA_range):\n",
    "    n_repeats = 10\n",
    "    n_genSTA = 7000 # pocet nagenerovanych STA\n",
    "    n_genCR = 100\n",
    "    n_genOT = 100\n",
    "    _, _, _, gen_origin, gen_expected, gen_IS = rna_seq_generator(\n",
    "        n_transcripts=n_transcripts,\n",
    "        distribution=\"Negative binomial\",\n",
    "        n_STA=n_genSTA, n_CR=n_genCR, n_OT=n_genOT,\n",
    "        n_IS_effect=n_IS_effect, IS_effect=(IS_effect, IS_effect+0.01),  # IS effect\n",
    "        is_class_effect=n_class_effect > 0, n_class_effect=n_class_effect, class_effect=(class_effect_mean, 0.1)  # class effect, normal distribution\n",
    "    )\n",
    "    mean_auc_results_origin, mean_auc_results_expected, mean_auc_results_filtered = \\\n",
    "        experiment_iteration(STA_range, n_repeats,\n",
    "                             gen_origin, gen_expected, gen_IS,\n",
    "                             n_genSTA, n_genCR, n_genOT, \"Negative binomial\")\n",
    "    return mean_auc_results_origin, mean_auc_results_expected, mean_auc_results_filtered"
   ],
   "metadata": {
    "collapsed": false,
    "pycharm": {
     "name": "#%%\n"
    }
   }
  },
  {
   "cell_type": "code",
   "execution_count": null,
   "outputs": [
    {
     "name": "stdout",
     "output_type": "stream",
     "text": [
      "new iteration\n",
      "Exception when  10  STA samples. Error:  Perfect separation detected, results not available\n",
      "Exception when  10  STA samples. Error:  NaN, inf or invalid value detected in weights, estimation infeasible.\n",
      "Exception when  10  STA samples. Error:  NaN, inf or invalid value detected in weights, estimation infeasible.\n",
      "Exception when  10  STA samples. Error:  NaN, inf or invalid value detected in weights, estimation infeasible.\n",
      "Exception when  10  STA samples. Error:  Perfect separation detected, results not available\n",
      "Exception when  10  STA samples. Error:  The first guess on the deviance function returned a nan.  This could be a boundary  problem and should be reported.\n",
      "Exception when  10  STA samples. Error:  Perfect separation detected, results not available\n",
      "Exception when  10  STA samples. Error:  Perfect separation detected, results not available\n",
      "Exception when  10  STA samples. Error:  Perfect separation detected, results not available\n",
      "Exception when  10  STA samples. Error:  Perfect separation detected, results not available\n",
      "Exception when  10  STA samples. Error:  Perfect separation detected, results not available\n",
      "Exception when  10  STA samples. Error:  NaN, inf or invalid value detected in weights, estimation infeasible.\n",
      "Exception when  10  STA samples. Error:  Perfect separation detected, results not available\n",
      "Exception when  10  STA samples. Error:  Perfect separation detected, results not available\n",
      "Exception when  10  STA samples. Error:  Perfect separation detected, results not available\n",
      "Exception when  10  STA samples. Error:  Perfect separation detected, results not available\n",
      "Exception when  10  STA samples. Error:  NaN, inf or invalid value detected in weights, estimation infeasible.\n",
      "Exception when  10  STA samples. Error:  Perfect separation detected, results not available\n",
      "Exception when  10  STA samples. Error:  Perfect separation detected, results not available\n",
      "Exception when  10  STA samples. Error:  NaN, inf or invalid value detected in weights, estimation infeasible.\n",
      "Exception when  10  STA samples. Error:  NaN, inf or invalid value detected in weights, estimation infeasible.\n",
      "new iteration\n",
      "Exception when  10  STA samples. Error:  NaN, inf or invalid value detected in weights, estimation infeasible.\n",
      "Exception when  10  STA samples. Error:  Perfect separation detected, results not available\n",
      "Exception when  10  STA samples. Error:  Perfect separation detected, results not available\n",
      "Exception when  10  STA samples. Error:  Input contains NaN, infinity or a value too large for dtype('float64').\n",
      "Exception when  10  STA samples. Error:  NaN, inf or invalid value detected in weights, estimation infeasible.\n",
      "Exception when  10  STA samples. Error:  Perfect separation detected, results not available\n",
      "Exception when  10  STA samples. Error:  Perfect separation detected, results not available\n",
      "Exception when  10  STA samples. Error:  NaN, inf or invalid value detected in weights, estimation infeasible.\n",
      "Exception when  10  STA samples. Error:  Perfect separation detected, results not available\n",
      "Exception when  10  STA samples. Error:  NaN, inf or invalid value detected in weights, estimation infeasible.\n",
      "Exception when  10  STA samples. Error:  Perfect separation detected, results not available\n",
      "Exception when  10  STA samples. Error:  Perfect separation detected, results not available\n",
      "Exception when  10  STA samples. Error:  Perfect separation detected, results not available\n",
      "Exception when  10  STA samples. Error:  Perfect separation detected, results not available\n",
      "Exception when  10  STA samples. Error:  Perfect separation detected, results not available\n"
     ]
    },
    {
     "name": "stderr",
     "output_type": "stream",
     "text": [
      "/Users/karinabalagazova/miniconda3/envs/RPZ/lib/python3.8/site-packages/statsmodels/genmod/families/family.py:1226: RuntimeWarning: divide by zero encountered in true_divide\n",
      "  endog_mu = self._clean(endog / mu)\n",
      "/Users/karinabalagazova/miniconda3/envs/RPZ/lib/python3.8/site-packages/statsmodels/genmod/families/family.py:1226: RuntimeWarning: invalid value encountered in true_divide\n",
      "  endog_mu = self._clean(endog / mu)\n",
      "/Users/karinabalagazova/miniconda3/envs/RPZ/lib/python3.8/site-packages/statsmodels/genmod/families/links.py:517: RuntimeWarning: overflow encountered in exp\n",
      "  return np.exp(z)\n",
      "/Users/karinabalagazova/miniconda3/envs/RPZ/lib/python3.8/site-packages/statsmodels/genmod/families/family.py:1230: RuntimeWarning: divide by zero encountered in log\n",
      "  resid_dev -= endog_alpha * np.log(endog_alpha / mu_alpha)\n",
      "/Users/karinabalagazova/miniconda3/envs/RPZ/lib/python3.8/site-packages/statsmodels/genmod/families/family.py:134: RuntimeWarning: invalid value encountered in multiply\n",
      "  return 1. / (self.link.deriv(mu)**2 * self.variance(mu))\n",
      "/Users/karinabalagazova/miniconda3/envs/RPZ/lib/python3.8/site-packages/statsmodels/genmod/generalized_linear_model.py:1198: RuntimeWarning: invalid value encountered in multiply\n",
      "  wlsendog = (lin_pred + self.family.link.deriv(mu) * (self.endog-mu)\n",
      "/Users/karinabalagazova/miniconda3/envs/RPZ/lib/python3.8/site-packages/statsmodels/genmod/families/links.py:517: RuntimeWarning: overflow encountered in exp\n",
      "  return np.exp(z)\n",
      "/Users/karinabalagazova/miniconda3/envs/RPZ/lib/python3.8/site-packages/statsmodels/genmod/families/family.py:1226: RuntimeWarning: divide by zero encountered in true_divide\n",
      "  endog_mu = self._clean(endog / mu)\n",
      "/Users/karinabalagazova/miniconda3/envs/RPZ/lib/python3.8/site-packages/statsmodels/genmod/families/family.py:1230: RuntimeWarning: divide by zero encountered in log\n",
      "  resid_dev -= endog_alpha * np.log(endog_alpha / mu_alpha)\n",
      "/Users/karinabalagazova/miniconda3/envs/RPZ/lib/python3.8/site-packages/statsmodels/genmod/families/family.py:134: RuntimeWarning: invalid value encountered in multiply\n",
      "  return 1. / (self.link.deriv(mu)**2 * self.variance(mu))\n",
      "/Users/karinabalagazova/miniconda3/envs/RPZ/lib/python3.8/site-packages/statsmodels/genmod/generalized_linear_model.py:1198: RuntimeWarning: invalid value encountered in multiply\n",
      "  wlsendog = (lin_pred + self.family.link.deriv(mu) * (self.endog-mu)\n",
      "/Users/karinabalagazova/miniconda3/envs/RPZ/lib/python3.8/site-packages/statsmodels/genmod/families/links.py:517: RuntimeWarning: overflow encountered in exp\n",
      "  return np.exp(z)\n",
      "/Users/karinabalagazova/miniconda3/envs/RPZ/lib/python3.8/site-packages/statsmodels/genmod/families/family.py:1230: RuntimeWarning: divide by zero encountered in log\n",
      "  resid_dev -= endog_alpha * np.log(endog_alpha / mu_alpha)\n",
      "/Users/karinabalagazova/miniconda3/envs/RPZ/lib/python3.8/site-packages/statsmodels/genmod/families/varfuncs.py:265: RuntimeWarning: overflow encountered in square\n",
      "  return p + self.alpha*p**2\n",
      "/Users/karinabalagazova/miniconda3/envs/RPZ/lib/python3.8/site-packages/statsmodels/genmod/families/family.py:134: RuntimeWarning: invalid value encountered in multiply\n",
      "  return 1. / (self.link.deriv(mu)**2 * self.variance(mu))\n",
      "/Users/karinabalagazova/miniconda3/envs/RPZ/lib/python3.8/site-packages/statsmodels/genmod/generalized_linear_model.py:1198: RuntimeWarning: invalid value encountered in multiply\n",
      "  wlsendog = (lin_pred + self.family.link.deriv(mu) * (self.endog-mu)\n",
      "/Users/karinabalagazova/miniconda3/envs/RPZ/lib/python3.8/site-packages/statsmodels/genmod/families/family.py:1226: RuntimeWarning: invalid value encountered in true_divide\n",
      "  endog_mu = self._clean(endog / mu)\n",
      "/Users/karinabalagazova/miniconda3/envs/RPZ/lib/python3.8/site-packages/statsmodels/genmod/families/links.py:517: RuntimeWarning: overflow encountered in exp\n",
      "  return np.exp(z)\n",
      "/Users/karinabalagazova/miniconda3/envs/RPZ/lib/python3.8/site-packages/statsmodels/genmod/families/family.py:1230: RuntimeWarning: divide by zero encountered in log\n",
      "  resid_dev -= endog_alpha * np.log(endog_alpha / mu_alpha)\n",
      "/Users/karinabalagazova/miniconda3/envs/RPZ/lib/python3.8/site-packages/statsmodels/genmod/families/family.py:134: RuntimeWarning: invalid value encountered in multiply\n",
      "  return 1. / (self.link.deriv(mu)**2 * self.variance(mu))\n",
      "/Users/karinabalagazova/miniconda3/envs/RPZ/lib/python3.8/site-packages/statsmodels/genmod/generalized_linear_model.py:1198: RuntimeWarning: invalid value encountered in multiply\n",
      "  wlsendog = (lin_pred + self.family.link.deriv(mu) * (self.endog-mu)\n",
      "/Users/karinabalagazova/miniconda3/envs/RPZ/lib/python3.8/site-packages/statsmodels/genmod/families/links.py:517: RuntimeWarning: overflow encountered in exp\n",
      "  return np.exp(z)\n",
      "/Users/karinabalagazova/miniconda3/envs/RPZ/lib/python3.8/site-packages/statsmodels/genmod/families/family.py:1230: RuntimeWarning: divide by zero encountered in log\n",
      "  resid_dev -= endog_alpha * np.log(endog_alpha / mu_alpha)\n",
      "/Users/karinabalagazova/miniconda3/envs/RPZ/lib/python3.8/site-packages/statsmodels/genmod/families/varfuncs.py:265: RuntimeWarning: overflow encountered in square\n",
      "  return p + self.alpha*p**2\n",
      "/Users/karinabalagazova/miniconda3/envs/RPZ/lib/python3.8/site-packages/statsmodels/genmod/families/family.py:134: RuntimeWarning: invalid value encountered in multiply\n",
      "  return 1. / (self.link.deriv(mu)**2 * self.variance(mu))\n",
      "/Users/karinabalagazova/miniconda3/envs/RPZ/lib/python3.8/site-packages/statsmodels/genmod/generalized_linear_model.py:1198: RuntimeWarning: invalid value encountered in multiply\n",
      "  wlsendog = (lin_pred + self.family.link.deriv(mu) * (self.endog-mu)\n",
      "/Users/karinabalagazova/miniconda3/envs/RPZ/lib/python3.8/site-packages/statsmodels/genmod/families/family.py:1226: RuntimeWarning: invalid value encountered in true_divide\n",
      "  endog_mu = self._clean(endog / mu)\n",
      "/Users/karinabalagazova/miniconda3/envs/RPZ/lib/python3.8/site-packages/statsmodels/genmod/families/links.py:517: RuntimeWarning: overflow encountered in exp\n",
      "  return np.exp(z)\n",
      "/Users/karinabalagazova/miniconda3/envs/RPZ/lib/python3.8/site-packages/statsmodels/genmod/families/family.py:1230: RuntimeWarning: divide by zero encountered in log\n",
      "  resid_dev -= endog_alpha * np.log(endog_alpha / mu_alpha)\n",
      "/Users/karinabalagazova/miniconda3/envs/RPZ/lib/python3.8/site-packages/statsmodels/genmod/families/family.py:134: RuntimeWarning: invalid value encountered in multiply\n",
      "  return 1. / (self.link.deriv(mu)**2 * self.variance(mu))\n",
      "/Users/karinabalagazova/miniconda3/envs/RPZ/lib/python3.8/site-packages/statsmodels/genmod/generalized_linear_model.py:1198: RuntimeWarning: invalid value encountered in multiply\n",
      "  wlsendog = (lin_pred + self.family.link.deriv(mu) * (self.endog-mu)\n",
      "/Users/karinabalagazova/miniconda3/envs/RPZ/lib/python3.8/site-packages/statsmodels/genmod/families/links.py:517: RuntimeWarning: overflow encountered in exp\n",
      "  return np.exp(z)\n",
      "/Users/karinabalagazova/miniconda3/envs/RPZ/lib/python3.8/site-packages/statsmodels/genmod/families/family.py:1230: RuntimeWarning: divide by zero encountered in log\n",
      "  resid_dev -= endog_alpha * np.log(endog_alpha / mu_alpha)\n",
      "/Users/karinabalagazova/miniconda3/envs/RPZ/lib/python3.8/site-packages/statsmodels/genmod/families/family.py:134: RuntimeWarning: invalid value encountered in multiply\n",
      "  return 1. / (self.link.deriv(mu)**2 * self.variance(mu))\n",
      "/Users/karinabalagazova/miniconda3/envs/RPZ/lib/python3.8/site-packages/statsmodels/genmod/generalized_linear_model.py:1198: RuntimeWarning: invalid value encountered in multiply\n",
      "  wlsendog = (lin_pred + self.family.link.deriv(mu) * (self.endog-mu)\n",
      "/Users/karinabalagazova/miniconda3/envs/RPZ/lib/python3.8/site-packages/statsmodels/genmod/families/links.py:517: RuntimeWarning: overflow encountered in exp\n",
      "  return np.exp(z)\n",
      "/Users/karinabalagazova/miniconda3/envs/RPZ/lib/python3.8/site-packages/statsmodels/genmod/families/family.py:1230: RuntimeWarning: divide by zero encountered in log\n",
      "  resid_dev -= endog_alpha * np.log(endog_alpha / mu_alpha)\n",
      "/Users/karinabalagazova/miniconda3/envs/RPZ/lib/python3.8/site-packages/statsmodels/genmod/families/family.py:134: RuntimeWarning: invalid value encountered in multiply\n",
      "  return 1. / (self.link.deriv(mu)**2 * self.variance(mu))\n",
      "/Users/karinabalagazova/miniconda3/envs/RPZ/lib/python3.8/site-packages/statsmodels/genmod/generalized_linear_model.py:1198: RuntimeWarning: invalid value encountered in multiply\n",
      "  wlsendog = (lin_pred + self.family.link.deriv(mu) * (self.endog-mu)\n",
      "/Users/karinabalagazova/miniconda3/envs/RPZ/lib/python3.8/site-packages/statsmodels/genmod/families/family.py:1226: RuntimeWarning: invalid value encountered in true_divide\n",
      "  endog_mu = self._clean(endog / mu)\n",
      "/Users/karinabalagazova/Desktop/cvut/5.semestr/scientificProject/functions/data_preprocess.py:45: RuntimeWarning: overflow encountered in exp\n",
      "  OT_CR_counts[:, :n_CR] = OT_CR_counts[:, :n_CR] / np.exp(np.dot(OT_CR_IS[:n_CR], learned_beta).transpose())\n",
      "/Users/karinabalagazova/Desktop/cvut/5.semestr/scientificProject/functions/data_preprocess.py:45: RuntimeWarning: invalid value encountered in true_divide\n",
      "  OT_CR_counts[:, :n_CR] = OT_CR_counts[:, :n_CR] / np.exp(np.dot(OT_CR_IS[:n_CR], learned_beta).transpose())\n",
      "/Users/karinabalagazova/miniconda3/envs/RPZ/lib/python3.8/site-packages/statsmodels/genmod/families/links.py:517: RuntimeWarning: overflow encountered in exp\n",
      "  return np.exp(z)\n",
      "/Users/karinabalagazova/miniconda3/envs/RPZ/lib/python3.8/site-packages/statsmodels/genmod/families/family.py:1230: RuntimeWarning: divide by zero encountered in log\n",
      "  resid_dev -= endog_alpha * np.log(endog_alpha / mu_alpha)\n",
      "/Users/karinabalagazova/miniconda3/envs/RPZ/lib/python3.8/site-packages/statsmodels/genmod/families/family.py:134: RuntimeWarning: invalid value encountered in multiply\n",
      "  return 1. / (self.link.deriv(mu)**2 * self.variance(mu))\n",
      "/Users/karinabalagazova/miniconda3/envs/RPZ/lib/python3.8/site-packages/statsmodels/genmod/generalized_linear_model.py:1198: RuntimeWarning: invalid value encountered in multiply\n",
      "  wlsendog = (lin_pred + self.family.link.deriv(mu) * (self.endog-mu)\n",
      "/Users/karinabalagazova/miniconda3/envs/RPZ/lib/python3.8/site-packages/statsmodels/genmod/families/varfuncs.py:265: RuntimeWarning: overflow encountered in square\n",
      "  return p + self.alpha*p**2\n",
      "/Users/karinabalagazova/miniconda3/envs/RPZ/lib/python3.8/site-packages/statsmodels/genmod/families/family.py:134: RuntimeWarning: invalid value encountered in multiply\n",
      "  return 1. / (self.link.deriv(mu)**2 * self.variance(mu))\n",
      "/Users/karinabalagazova/miniconda3/envs/RPZ/lib/python3.8/site-packages/statsmodels/genmod/families/links.py:517: RuntimeWarning: overflow encountered in exp\n",
      "  return np.exp(z)\n",
      "/Users/karinabalagazova/miniconda3/envs/RPZ/lib/python3.8/site-packages/statsmodels/genmod/families/family.py:1230: RuntimeWarning: divide by zero encountered in log\n",
      "  resid_dev -= endog_alpha * np.log(endog_alpha / mu_alpha)\n",
      "/Users/karinabalagazova/miniconda3/envs/RPZ/lib/python3.8/site-packages/statsmodels/genmod/families/family.py:134: RuntimeWarning: invalid value encountered in multiply\n",
      "  return 1. / (self.link.deriv(mu)**2 * self.variance(mu))\n",
      "/Users/karinabalagazova/miniconda3/envs/RPZ/lib/python3.8/site-packages/statsmodels/genmod/generalized_linear_model.py:1198: RuntimeWarning: invalid value encountered in multiply\n",
      "  wlsendog = (lin_pred + self.family.link.deriv(mu) * (self.endog-mu)\n",
      "/Users/karinabalagazova/miniconda3/envs/RPZ/lib/python3.8/site-packages/joblib/externals/loky/process_executor.py:688: UserWarning: A worker stopped while some jobs were given to the executor. This can be caused by a too short worker timeout or by a memory leak.\n",
      "  warnings.warn(\n"
     ]
    }
   ],
   "source": [
    "# transcripts = [10, 100, 1000, 10000]\n",
    "transcripts = [1000]\n",
    "class_effect_n_transcripts = [0, 2, 5, 10]\n",
    "class_effect = [0.2, 0.3, 0.4]  # mean of normal distribution\n",
    "\n",
    "IS_effect_n_transcripts = [2, 5, 10]\n",
    "IS_effect = [0.3, 0.5, 0.9]  # coefficients beta1..beta3\n",
    "\n",
    "for t in transcripts:\n",
    "    for n_IS in IS_effect_n_transcripts:\n",
    "        print('new iteration')\n",
    "        for i in IS_effect:\n",
    "            for n_class in class_effect_n_transcripts:\n",
    "                for c in class_effect:\n",
    "                    STA_range = [10, 20, 50, 100, 200, 500, 1000, 2000, 5000] #, 10000]\n",
    "\n",
    "                    mean_o, mean_e, mean_f = experiment_classification(t, n_IS, i, n_class, c, STA_range)\n",
    "                    saved_origin[t][n_IS][i][n_class][c]['STA_range'] = STA_range\n",
    "                    saved_origin[t][n_IS][i][n_class][c]['auc'] = mean_o\n",
    "\n",
    "                    saved_expected[t][n_IS][i][n_class][c]['STA_range'] = STA_range\n",
    "                    saved_expected[t][n_IS][i][n_class][c]['auc'] = mean_e\n",
    "\n",
    "                    saved_filtered[t][n_IS][i][n_class][c]['STA_range'] = STA_range\n",
    "                    saved_filtered[t][n_IS][i][n_class][c]['auc'] = mean_f"
   ],
   "metadata": {
    "collapsed": false,
    "pycharm": {
     "name": "#%%\n",
     "is_executing": true
    }
   }
  },
  {
   "cell_type": "code",
   "execution_count": 20,
   "outputs": [],
   "source": [
    "# Save data\n",
    "np.savez('auc_results_origin5.npz', auc_data=saved_origin)\n",
    "np.savez('auc_results_expected5.npz', auc_data=saved_expected)\n",
    "np.savez('auc_results_filtered5.npz', auc_data=saved_filtered)"
   ],
   "metadata": {
    "collapsed": false,
    "pycharm": {
     "name": "#%%\n"
    }
   }
  },
  {
   "cell_type": "code",
   "execution_count": 19,
   "outputs": [],
   "source": [],
   "metadata": {
    "collapsed": false,
    "pycharm": {
     "name": "#%%\n"
    }
   }
  },
  {
   "cell_type": "code",
   "execution_count": null,
   "outputs": [],
   "source": [],
   "metadata": {
    "collapsed": false,
    "pycharm": {
     "name": "#%%\n"
    }
   }
  }
 ],
 "metadata": {
  "kernelspec": {
   "display_name": "Python 3",
   "language": "python",
   "name": "python3"
  },
  "language_info": {
   "codemirror_mode": {
    "name": "ipython",
    "version": 2
   },
   "file_extension": ".py",
   "mimetype": "text/x-python",
   "name": "python",
   "nbconvert_exporter": "python",
   "pygments_lexer": "ipython2",
   "version": "2.7.6"
  }
 },
 "nbformat": 4,
 "nbformat_minor": 0
}