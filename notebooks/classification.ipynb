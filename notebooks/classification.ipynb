{
 "cells": [
  {
   "cell_type": "code",
   "execution_count": 8,
   "metadata": {
    "collapsed": true
   },
   "outputs": [
    {
     "name": "stdout",
     "output_type": "stream",
     "text": [
      "The autoreload extension is already loaded. To reload it, use:\n",
      "  %reload_ext autoreload\n"
     ]
    }
   ],
   "source": [
    "import json\n",
    "from functions.experiment import experiment_iteration\n",
    "from functions.rnaseq_data_generator import rna_seq_generator\n",
    "%load_ext autoreload\n",
    "%autoreload 2\n",
    "import numpy as np\n",
    "from functions.saving_data import get_empty_auc_dataset"
   ]
  },
  {
   "cell_type": "code",
   "execution_count": 10,
   "outputs": [],
   "source": [
    "# Prepare to store data into array\n",
    "STA_range = [10, 20, 50, 100, 200, 500, 1000, 2000, 5000, 10000]\n",
    "data = get_empty_auc_dataset(STA_range, 2)"
   ],
   "metadata": {
    "collapsed": false,
    "pycharm": {
     "name": "#%%\n"
    }
   }
  },
  {
   "cell_type": "code",
   "execution_count": 11,
   "outputs": [],
   "source": [
    "# Save data\n",
    "np.savez('auc_results_origin.npz', auc_data=data)\n",
    "saved_origin = np.load('auc_results_origin.npz', allow_pickle=True)\n",
    "saved_origin = saved_origin['auc_data'].item()\n",
    "\n",
    "np.savez('auc_results_expected.npz', auc_data=data)\n",
    "saved_expected = np.load('auc_results_expected.npz', allow_pickle=True)\n",
    "saved_expected = saved_expected['auc_data'].item()\n",
    "\n",
    "np.savez('auc_results_filtered.npz', auc_data=data)\n",
    "saved_filtered = np.load('auc_results_filtered.npz', allow_pickle=True)\n",
    "saved_filtered = saved_filtered['auc_data'].item()"
   ],
   "metadata": {
    "collapsed": false,
    "pycharm": {
     "name": "#%%\n"
    }
   }
  },
  {
   "cell_type": "code",
   "execution_count": 21,
   "outputs": [],
   "source": [
    "def experiment_classification(n_transcripts, n_IS_effect, IS_effect, n_class_effect, class_effect_mean, STA_range):\n",
    "    n_repeats = 10\n",
    "    n_genSTA = 7000 # pocet nagenerovanych STA\n",
    "    gen_origin, gen_expected, gen_IS = rna_seq_generator(\n",
    "        n_transcripts=n_transcripts,\n",
    "        distribution=\"Negative binomial\",\n",
    "        n_STA=n_genSTA, n_CR=15, n_OT=15,\n",
    "        n_IS_effect=n_IS_effect, IS_effect=(IS_effect, IS_effect+0.01),  # IS effect\n",
    "        is_class_effect=n_class_effect > 0, n_class_effect=n_class_effect, class_effect=(class_effect_mean, 0.1)  # class effect, normal distribution\n",
    "    )\n",
    "    mean_auc_results_origin, mean_auc_results_expected, mean_auc_results_filtered = experiment_iteration(STA_range, n_repeats, gen_origin, gen_expected, gen_IS, n_genSTA, \"Negative binomial\")\n",
    "    return mean_auc_results_origin, mean_auc_results_expected, mean_auc_results_filtered"
   ],
   "metadata": {
    "collapsed": false,
    "pycharm": {
     "name": "#%%\n"
    }
   }
  },
  {
   "cell_type": "code",
   "execution_count": 21,
   "outputs": [
    {
     "name": "stderr",
     "output_type": "stream",
     "text": [
      "/Users/karinabalagazova/miniconda3/envs/RPZ/lib/python3.8/site-packages/statsmodels/genmod/families/links.py:517: RuntimeWarning: overflow encountered in exp\n",
      "  return np.exp(z)\n",
      "/Users/karinabalagazova/miniconda3/envs/RPZ/lib/python3.8/site-packages/statsmodels/genmod/families/family.py:1230: RuntimeWarning: divide by zero encountered in log\n",
      "  resid_dev -= endog_alpha * np.log(endog_alpha / mu_alpha)\n",
      "/Users/karinabalagazova/miniconda3/envs/RPZ/lib/python3.8/site-packages/statsmodels/genmod/families/family.py:134: RuntimeWarning: invalid value encountered in multiply\n",
      "  return 1. / (self.link.deriv(mu)**2 * self.variance(mu))\n",
      "/Users/karinabalagazova/miniconda3/envs/RPZ/lib/python3.8/site-packages/statsmodels/genmod/generalized_linear_model.py:1198: RuntimeWarning: invalid value encountered in multiply\n",
      "  wlsendog = (lin_pred + self.family.link.deriv(mu) * (self.endog-mu)\n",
      "ERROR:root:Internal Python error in the inspect module.\n",
      "Below is the traceback from this internal error.\n",
      "\n",
      "ERROR:root:Internal Python error in the inspect module.\n",
      "Below is the traceback from this internal error.\n",
      "\n",
      "\n",
      "KeyboardInterrupt\n",
      "\n"
     ]
    },
    {
     "name": "stdout",
     "output_type": "stream",
     "text": [
      "Exception when  10  STA samples.\n",
      "Exception when  10  STA samples.\n",
      "Exception when  100  STA samples.\n",
      "Exception when  200  STA samples.\n",
      "Exception when  5000  STA samples.\n",
      "Exception when  10  STA samples.\n",
      "Exception when  50  STA samples.\n",
      "Exception when  100  STA samples.\n",
      "Exception when  200  STA samples.\n",
      "Exception when  500  STA samples.\n",
      "Exception when  1000  STA samples.\n",
      "Exception when  2000  STA samples.\n",
      "Exception when  5000  STA samples.\n",
      "Exception when  10  STA samples.\n",
      "Exception when  20  STA samples.\n",
      "Exception when  50  STA samples.\n",
      "Exception when  100  STA samples.\n",
      "Exception when  200  STA samples.\n",
      "Exception when  500  STA samples.\n",
      "Exception when  1000  STA samples.\n",
      "Exception when  2000  STA samples.\n",
      "Exception when  5000  STA samples.\n",
      "Exception when  10  STA samples.\n",
      "Exception when  20  STA samples.\n",
      "Exception when  50  STA samples.\n",
      "Exception when  100  STA samples.\n",
      "Exception when  200  STA samples.\n",
      "Exception when  500  STA samples.\n",
      "Exception when  1000  STA samples.\n",
      "Exception when  2000  STA samples.\n",
      "Exception when  5000  STA samples.\n",
      "Exception when  10  STA samples.\n",
      "Exception when  20  STA samples.\n",
      "Exception when  50  STA samples.\n",
      "Exception when  100  STA samples.\n",
      "Exception when  200  STA samples.\n",
      "Exception when  500  STA samples.\n",
      "Exception when  1000  STA samples.\n",
      "Exception when  2000  STA samples.\n",
      "Exception when  5000  STA samples.\n",
      "Exception when  10  STA samples.\n",
      "Exception when  20  STA samples.\n",
      "Exception when  50  STA samples.\n",
      "Exception when  100  STA samples.\n",
      "Exception when  200  STA samples.\n",
      "Exception when  500  STA samples.\n",
      "Exception when  1000  STA samples.\n",
      "Exception when  2000  STA samples.\n",
      "Exception when  5000  STA samples.\n",
      "Exception when  10  STA samples.\n",
      "Exception when  20  STA samples.\n",
      "Exception when  50  STA samples.\n",
      "Exception when  100  STA samples.\n",
      "Exception when  200  STA samples.\n",
      "Exception when  500  STA samples.\n",
      "Exception when  1000  STA samples.\n",
      "Exception when  2000  STA samples.\n",
      "Exception when  5000  STA samples.\n",
      "Exception when  10  STA samples.\n",
      "Exception when  20  STA samples.\n",
      "Exception when  50  STA samples.\n",
      "Exception when  100  STA samples.\n",
      "Exception when  200  STA samples.\n",
      "Exception when  500  STA samples.\n",
      "Exception when  1000  STA samples.\n",
      "Exception when  2000  STA samples.\n",
      "Exception when  5000  STA samples.\n",
      "Traceback (most recent call last):\n",
      "  File \"/Users/karinabalagazova/miniconda3/envs/RPZ/lib/python3.8/site-packages/IPython/core/interactiveshell.py\", line 3417, in run_code\n",
      "    exec(code_obj, self.user_global_ns, self.user_ns)\n",
      "  File \"<ipython-input-22-6bd029c2ecad>\", line 16, in <module>\n",
      "    mean_o, mean_e, mean_f = experiment_classification(t, n_IS, i, n_class, c, STA_range)\n",
      "  File \"<ipython-input-21-e412e257a959>\", line 4, in experiment_classification\n",
      "    gen_origin, gen_expected, gen_IS = rna_seq_generator(\n",
      "  File \"/Users/karinabalagazova/Desktop/cvut/5.semestr/scientificProject/functions/rnaseq_data_generator.py\", line 43, in rna_seq_generator\n",
      "    counts_STA, expected_counts_STA, IS_STA = generate_rnaseq_class(\"STA\", n_STA, n_transcripts, beta0, beta1, beta2, beta3,\n",
      "  File \"/Users/karinabalagazova/Desktop/cvut/5.semestr/scientificProject/functions/rnaseq_data_generator.py\", line 114, in generate_rnaseq_class\n",
      "    counts_without_IS[i, :] = np.random.negative_binomial(n=n, p=p, size=n_samples)\n",
      "  File \"mtrand.pyx\", line 3493, in numpy.random.mtrand.RandomState.negative_binomial\n",
      "  File \"mtrand.pyx\", line 112, in numpy.random.mtrand.int64_to_long\n",
      "  File \"/Users/karinabalagazova/miniconda3/envs/RPZ/lib/python3.8/site-packages/numpy/core/numeric.py\", line 1816, in isscalar\n",
      "    @set_module('numpy')\n",
      "KeyboardInterrupt\n",
      "\n",
      "During handling of the above exception, another exception occurred:\n",
      "\n",
      "Traceback (most recent call last):\n",
      "  File \"/Users/karinabalagazova/miniconda3/envs/RPZ/lib/python3.8/site-packages/IPython/core/interactiveshell.py\", line 2044, in showtraceback\n",
      "    stb = value._render_traceback_()\n",
      "AttributeError: 'KeyboardInterrupt' object has no attribute '_render_traceback_'\n",
      "\n",
      "During handling of the above exception, another exception occurred:\n",
      "\n",
      "Traceback (most recent call last):\n",
      "  File \"/Users/karinabalagazova/miniconda3/envs/RPZ/lib/python3.8/site-packages/IPython/core/ultratb.py\", line 1169, in get_records\n",
      "    return _fixed_getinnerframes(etb, number_of_lines_of_context, tb_offset)\n",
      "  File \"/Users/karinabalagazova/miniconda3/envs/RPZ/lib/python3.8/site-packages/IPython/core/ultratb.py\", line 316, in wrapped\n",
      "    return f(*args, **kwargs)\n",
      "  File \"/Users/karinabalagazova/miniconda3/envs/RPZ/lib/python3.8/site-packages/IPython/core/ultratb.py\", line 350, in _fixed_getinnerframes\n",
      "    records = fix_frame_records_filenames(inspect.getinnerframes(etb, context))\n",
      "  File \"/Users/karinabalagazova/miniconda3/envs/RPZ/lib/python3.8/inspect.py\", line 1503, in getinnerframes\n",
      "    frameinfo = (tb.tb_frame,) + getframeinfo(tb, context)\n",
      "  File \"/Users/karinabalagazova/miniconda3/envs/RPZ/lib/python3.8/inspect.py\", line 1461, in getframeinfo\n",
      "    filename = getsourcefile(frame) or getfile(frame)\n",
      "  File \"/Users/karinabalagazova/miniconda3/envs/RPZ/lib/python3.8/inspect.py\", line 708, in getsourcefile\n",
      "    if getattr(getmodule(object, filename), '__loader__', None) is not None:\n",
      "  File \"/Users/karinabalagazova/miniconda3/envs/RPZ/lib/python3.8/inspect.py\", line 745, in getmodule\n",
      "    if ismodule(module) and hasattr(module, '__file__'):\n",
      "KeyboardInterrupt\n",
      "Traceback (most recent call last):\n",
      "  File \"/Users/karinabalagazova/miniconda3/envs/RPZ/lib/python3.8/site-packages/IPython/core/interactiveshell.py\", line 3417, in run_code\n",
      "    exec(code_obj, self.user_global_ns, self.user_ns)\n",
      "  File \"<ipython-input-22-6bd029c2ecad>\", line 16, in <module>\n",
      "    mean_o, mean_e, mean_f = experiment_classification(t, n_IS, i, n_class, c, STA_range)\n",
      "  File \"<ipython-input-21-e412e257a959>\", line 4, in experiment_classification\n",
      "    gen_origin, gen_expected, gen_IS = rna_seq_generator(\n",
      "  File \"/Users/karinabalagazova/Desktop/cvut/5.semestr/scientificProject/functions/rnaseq_data_generator.py\", line 43, in rna_seq_generator\n",
      "    counts_STA, expected_counts_STA, IS_STA = generate_rnaseq_class(\"STA\", n_STA, n_transcripts, beta0, beta1, beta2, beta3,\n",
      "  File \"/Users/karinabalagazova/Desktop/cvut/5.semestr/scientificProject/functions/rnaseq_data_generator.py\", line 114, in generate_rnaseq_class\n",
      "    counts_without_IS[i, :] = np.random.negative_binomial(n=n, p=p, size=n_samples)\n",
      "  File \"mtrand.pyx\", line 3493, in numpy.random.mtrand.RandomState.negative_binomial\n",
      "  File \"mtrand.pyx\", line 112, in numpy.random.mtrand.int64_to_long\n",
      "  File \"/Users/karinabalagazova/miniconda3/envs/RPZ/lib/python3.8/site-packages/numpy/core/numeric.py\", line 1816, in isscalar\n",
      "    @set_module('numpy')\n",
      "KeyboardInterrupt\n",
      "\n",
      "During handling of the above exception, another exception occurred:\n",
      "\n",
      "Traceback (most recent call last):\n",
      "  File \"/Users/karinabalagazova/miniconda3/envs/RPZ/lib/python3.8/site-packages/IPython/core/interactiveshell.py\", line 2044, in showtraceback\n",
      "    stb = value._render_traceback_()\n",
      "AttributeError: 'KeyboardInterrupt' object has no attribute '_render_traceback_'\n",
      "\n",
      "During handling of the above exception, another exception occurred:\n",
      "\n",
      "Traceback (most recent call last):\n",
      "  File \"/Users/karinabalagazova/miniconda3/envs/RPZ/lib/python3.8/site-packages/IPython/core/interactiveshell.py\", line 3337, in run_ast_nodes\n",
      "    if (await self.run_code(code, result,  async_=asy)):\n",
      "  File \"/Users/karinabalagazova/miniconda3/envs/RPZ/lib/python3.8/site-packages/IPython/core/interactiveshell.py\", line 3434, in run_code\n",
      "    self.showtraceback(running_compiled_code=True)\n",
      "  File \"/Users/karinabalagazova/miniconda3/envs/RPZ/lib/python3.8/site-packages/IPython/core/interactiveshell.py\", line 2046, in showtraceback\n",
      "    stb = self.InteractiveTB.structured_traceback(etype,\n",
      "  File \"/Users/karinabalagazova/miniconda3/envs/RPZ/lib/python3.8/site-packages/IPython/core/ultratb.py\", line 1435, in structured_traceback\n",
      "    return FormattedTB.structured_traceback(\n",
      "  File \"/Users/karinabalagazova/miniconda3/envs/RPZ/lib/python3.8/site-packages/IPython/core/ultratb.py\", line 1335, in structured_traceback\n",
      "    return VerboseTB.structured_traceback(\n",
      "  File \"/Users/karinabalagazova/miniconda3/envs/RPZ/lib/python3.8/site-packages/IPython/core/ultratb.py\", line 1192, in structured_traceback\n",
      "    formatted_exception = self.format_exception_as_a_whole(etype, evalue, etb, number_of_lines_of_context,\n",
      "  File \"/Users/karinabalagazova/miniconda3/envs/RPZ/lib/python3.8/site-packages/IPython/core/ultratb.py\", line 1150, in format_exception_as_a_whole\n",
      "    last_unique, recursion_repeat = find_recursion(orig_etype, evalue, records)\n",
      "  File \"/Users/karinabalagazova/miniconda3/envs/RPZ/lib/python3.8/site-packages/IPython/core/ultratb.py\", line 451, in find_recursion\n",
      "    return len(records), 0\n",
      "TypeError: object of type 'NoneType' has no len()\n",
      "\n",
      "During handling of the above exception, another exception occurred:\n",
      "\n",
      "Traceback (most recent call last):\n",
      "  File \"/Users/karinabalagazova/miniconda3/envs/RPZ/lib/python3.8/site-packages/IPython/core/interactiveshell.py\", line 2044, in showtraceback\n",
      "    stb = value._render_traceback_()\n",
      "AttributeError: 'TypeError' object has no attribute '_render_traceback_'\n",
      "\n",
      "During handling of the above exception, another exception occurred:\n",
      "\n",
      "Traceback (most recent call last):\n",
      "  File \"/Users/karinabalagazova/miniconda3/envs/RPZ/lib/python3.8/site-packages/IPython/core/ultratb.py\", line 1169, in get_records\n",
      "    return _fixed_getinnerframes(etb, number_of_lines_of_context, tb_offset)\n",
      "  File \"/Users/karinabalagazova/miniconda3/envs/RPZ/lib/python3.8/site-packages/IPython/core/ultratb.py\", line 316, in wrapped\n",
      "    return f(*args, **kwargs)\n",
      "  File \"/Users/karinabalagazova/miniconda3/envs/RPZ/lib/python3.8/site-packages/IPython/core/ultratb.py\", line 350, in _fixed_getinnerframes\n",
      "    records = fix_frame_records_filenames(inspect.getinnerframes(etb, context))\n",
      "  File \"/Users/karinabalagazova/miniconda3/envs/RPZ/lib/python3.8/inspect.py\", line 1503, in getinnerframes\n",
      "    frameinfo = (tb.tb_frame,) + getframeinfo(tb, context)\n",
      "  File \"/Users/karinabalagazova/miniconda3/envs/RPZ/lib/python3.8/inspect.py\", line 1461, in getframeinfo\n",
      "    filename = getsourcefile(frame) or getfile(frame)\n",
      "  File \"/Users/karinabalagazova/miniconda3/envs/RPZ/lib/python3.8/inspect.py\", line 708, in getsourcefile\n",
      "    if getattr(getmodule(object, filename), '__loader__', None) is not None:\n",
      "  File \"/Users/karinabalagazova/miniconda3/envs/RPZ/lib/python3.8/inspect.py\", line 745, in getmodule\n",
      "    if ismodule(module) and hasattr(module, '__file__'):\n",
      "KeyboardInterrupt\n"
     ]
    }
   ],
   "source": [
    "# transcripts = [10, 100, 1000, 10000]\n",
    "transcripts = [100, 1000]\n",
    "class_effect_n_transcripts = [0, 2, 5, 10]\n",
    "class_effect = [0.2, 0.3, 0.4]  # mean of normal distribution\n",
    "\n",
    "IS_effect_n_transcripts = [2, 5, 10]\n",
    "IS_effect = [0.5, 0.9]  # coefficients beta1..beta3\n",
    "\n",
    "for t in transcripts:\n",
    "    for n_IS in IS_effect_n_transcripts:\n",
    "        for i in IS_effect:\n",
    "            for n_class in class_effect_n_transcripts:\n",
    "                for c in class_effect:\n",
    "                    STA_range = [10, 20, 50, 100, 200, 500, 1000, 2000, 5000] #, 10000]\n",
    "\n",
    "                    mean_o, mean_e, mean_f = experiment_classification(t, n_IS, i, n_class, c, STA_range)\n",
    "                    saved_origin[t][n_IS][i][n_class][c]['STA_range'] = STA_range\n",
    "                    saved_origin[t][n_IS][i][n_class][c]['auc'] = mean_o\n",
    "\n",
    "                    saved_expected[t][n_IS][i][n_class][c]['STA_range'] = STA_range\n",
    "                    saved_expected[t][n_IS][i][n_class][c]['auc'] = mean_e\n",
    "\n",
    "                    saved_filtered[t][n_IS][i][n_class][c]['STA_range'] = STA_range\n",
    "                    saved_filtered[t][n_IS][i][n_class][c]['auc'] = mean_f"
   ],
   "metadata": {
    "collapsed": false,
    "pycharm": {
     "name": "#%%\n"
    }
   }
  },
  {
   "cell_type": "code",
   "execution_count": 23,
   "outputs": [],
   "source": [
    "# Save data\n",
    "np.savez('auc_results_origin2.npz', auc_data=saved_origin)\n",
    "np.savez('auc_results_expected2.npz', auc_data=saved_expected)\n",
    "np.savez('auc_results_filtered2.npz', auc_data=saved_filtered)"
   ],
   "metadata": {
    "collapsed": false,
    "pycharm": {
     "name": "#%%\n"
    }
   }
  },
  {
   "cell_type": "code",
   "execution_count": null,
   "outputs": [],
   "source": [],
   "metadata": {
    "collapsed": false,
    "pycharm": {
     "name": "#%%\n"
    }
   }
  }
 ],
 "metadata": {
  "kernelspec": {
   "display_name": "Python 3",
   "language": "python",
   "name": "python3"
  },
  "language_info": {
   "codemirror_mode": {
    "name": "ipython",
    "version": 2
   },
   "file_extension": ".py",
   "mimetype": "text/x-python",
   "name": "python",
   "nbconvert_exporter": "python",
   "pygments_lexer": "ipython2",
   "version": "2.7.6"
  }
 },
 "nbformat": 4,
 "nbformat_minor": 0
}